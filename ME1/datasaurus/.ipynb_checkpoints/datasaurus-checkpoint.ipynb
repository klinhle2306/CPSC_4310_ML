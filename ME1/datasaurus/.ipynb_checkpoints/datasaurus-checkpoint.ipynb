{
 "cells": [
  {
   "cell_type": "code",
   "execution_count": null,
   "metadata": {},
   "outputs": [],
   "source": [
    "%matplotlib inline\n",
    "\n",
    "import pandas as pd\n",
    "import matplotlib.pyplot as plt"
   ]
  },
  {
   "cell_type": "code",
   "execution_count": null,
   "metadata": {},
   "outputs": [],
   "source": [
    "df = pd.read_csv('./data/data.csv')\n",
    "df.head()"
   ]
  },
  {
   "cell_type": "code",
   "execution_count": null,
   "metadata": {},
   "outputs": [],
   "source": [
    "df.describe()"
   ]
  },
  {
   "cell_type": "code",
   "execution_count": null,
   "metadata": {},
   "outputs": [],
   "source": [
    "df.corr()"
   ]
  },
  {
   "cell_type": "code",
   "execution_count": null,
   "metadata": {},
   "outputs": [],
   "source": [
    "fig, ((ax1, ax2)) = plt.subplots(1, 2)\n",
    "\n",
    "ax1.boxplot([df['bullseyeX'], df['circleX'], df['starX'], df['dinoX']])\n",
    "ax2.boxplot([df['bullseyeY'], df['circleY'], df['starY'], df['dinoY']])\n",
    "\n",
    "plt.show()"
   ]
  },
  {
   "cell_type": "code",
   "execution_count": null,
   "metadata": {},
   "outputs": [],
   "source": [
    "fig, ((ax1, ax2, ax3, ax4), (ay1, ay2, ay3, ay4)) = plt.subplots(2, 4, figsize=[8, 6])\n",
    "\n",
    "ax1.hist(df['bullseyeX'])\n",
    "ax2.hist(df['circleX'])\n",
    "ax3.hist(df['starX'])\n",
    "ax4.hist(df['dinoX'])\n",
    "\n",
    "ay1.hist(df['bullseyeY'])\n",
    "ay2.hist(df['circleY'])\n",
    "ay3.hist(df['starY'])\n",
    "ay4.hist(df['dinoY'])\n",
    "\n",
    "plt.show()"
   ]
  },
  {
   "cell_type": "code",
   "execution_count": null,
   "metadata": {},
   "outputs": [],
   "source": [
    "fig, ((a1, a2), (a3, a4)) = plt.subplots(2, 2, figsize=[8, 8])\n",
    "\n",
    "a1.scatter(df['bullseyeX'], df['bullseyeY'])\n",
    "a2.scatter(df['circleX'], df['circleY'])\n",
    "a3.scatter(df['starX'], df['starY'])\n",
    "a4.scatter(df['dinoX'], df['dinoY'])\n",
    "\n",
    "plt.show()"
   ]
  },
  {
   "cell_type": "code",
   "execution_count": null,
   "metadata": {},
   "outputs": [],
   "source": []
  }
 ],
 "metadata": {
  "kernelspec": {
   "display_name": "Python 3",
   "language": "python",
   "name": "python3"
  },
  "language_info": {
   "codemirror_mode": {
    "name": "ipython",
    "version": 3
   },
   "file_extension": ".py",
   "mimetype": "text/x-python",
   "name": "python",
   "nbconvert_exporter": "python",
   "pygments_lexer": "ipython3",
   "version": "3.7.3"
  }
 },
 "nbformat": 4,
 "nbformat_minor": 2
}
