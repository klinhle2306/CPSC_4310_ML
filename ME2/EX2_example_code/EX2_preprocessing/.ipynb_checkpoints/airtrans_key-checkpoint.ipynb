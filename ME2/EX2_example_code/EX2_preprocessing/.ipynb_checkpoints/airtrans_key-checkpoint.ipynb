{
 "cells": [
  {
   "cell_type": "code",
   "execution_count": null,
   "metadata": {},
   "outputs": [],
   "source": [
    "%matplotlib inline\n",
    "\n",
    "import pandas as pd\n",
    "import matplotlib.pyplot as plt\n",
    "import numpy as np"
   ]
  },
  {
   "cell_type": "code",
   "execution_count": null,
   "metadata": {},
   "outputs": [],
   "source": [
    "data = pd.read_csv('./data/airtrans_2020_Jan.csv') \n",
    "# if there are any missing values, then fill in with NaN\n",
    "data = data.fillna(np.nan)\n",
    "data.head()"
   ]
  },
  {
   "cell_type": "markdown",
   "metadata": {},
   "source": [
    "#### Python lambda\n",
    "\n",
    "- see the examples of lambda\n",
    "\n",
    "https://www.w3schools.com/python/python_lambda.asp"
   ]
  },
  {
   "cell_type": "code",
   "execution_count": null,
   "metadata": {},
   "outputs": [],
   "source": [
    "# add a new column with 'delayed' as key with values either True or False\n",
    "data['delayed'] = data['arr_delay'].apply(lambda x: x > 0) \n",
    "\n",
    "data.head()"
   ]
  },
  {
   "cell_type": "code",
   "execution_count": null,
   "metadata": {},
   "outputs": [],
   "source": [
    "# create a new DataFrame containing only delayed flights\n",
    "delayed_flights = data[data['delayed'] == True]\n",
    "\n",
    "delayed_flights.head()"
   ]
  },
  {
   "cell_type": "code",
   "execution_count": null,
   "metadata": {},
   "outputs": [],
   "source": [
    "# how many unique carriers that have delayed flights\n",
    "delayed_flights['unique_carrier'].value_counts()"
   ]
  },
  {
   "cell_type": "code",
   "execution_count": null,
   "metadata": {},
   "outputs": [],
   "source": [
    "# retrieve flights with delayed information (False or True)\n",
    "# group the data based on unique_carrier and count them.\n",
    "delayed_by_carrier = data.groupby(['unique_carrier', 'delayed']).size().unstack()\n",
    "delayed_by_carrier"
   ]
  },
  {
   "cell_type": "code",
   "execution_count": null,
   "metadata": {},
   "outputs": [],
   "source": [
    "# set default index (0, 1, 2, 3, ...)\n",
    "\n",
    "delayed_by_carrier = delayed_by_carrier.reset_index()\n",
    "delayed_by_carrier[:5]"
   ]
  },
  {
   "cell_type": "code",
   "execution_count": null,
   "metadata": {},
   "outputs": [],
   "source": [
    "# add a new column of the total flights\n",
    "delayed_by_carrier['flight_count'] = delayed_by_carrier[False] + delayed_by_carrier[True]\n",
    "\n",
    "# display top 5 rows\n",
    "delayed_by_carrier[:5]"
   ]
  },
  {
   "cell_type": "code",
   "execution_count": null,
   "metadata": {},
   "outputs": [],
   "source": [
    "# calculate the ratio of delayed flights\n",
    "delayed_by_carrier['proportion_delayed'] = delayed_by_carrier[True] / delayed_by_carrier['flight_count']\n",
    "\n",
    "# display top 5 rows\n",
    "delayed_by_carrier[:5]"
   ]
  },
  {
   "cell_type": "code",
   "execution_count": null,
   "metadata": {},
   "outputs": [],
   "source": [
    "# sort the data\n",
    "delayed_by_carrier.sort_values('proportion_delayed', ascending=False)"
   ]
  },
  {
   "cell_type": "markdown",
   "metadata": {},
   "source": [
    "### pivot_table()\n",
    "\n",
    "- see examples of pivot_table()\n",
    "\n",
    "https://pandas.pydata.org/pandas-docs/stable/reference/api/pandas.pivot_table.html"
   ]
  },
  {
   "cell_type": "code",
   "execution_count": null,
   "metadata": {},
   "outputs": [],
   "source": [
    "data.pivot_table(columns='unique_carrier', values='arr_delay')"
   ]
  },
  {
   "cell_type": "code",
   "execution_count": null,
   "metadata": {},
   "outputs": [],
   "source": [
    "# retrieve the information of arrival delay of South West \n",
    "southwest = data[data['unique_carrier'] == 'WN']['arr_delay']\n",
    "southwest.head()"
   ]
  },
  {
   "cell_type": "code",
   "execution_count": null,
   "metadata": {},
   "outputs": [],
   "source": [
    "southwest.describe()"
   ]
  },
  {
   "cell_type": "markdown",
   "metadata": {},
   "source": [
    "count: there are 42,020 rows in the dataset, which is filtered to only show Southwest (WN).\n",
    "\n",
    "mean: the average delay.\n",
    "std: the standard deviation. More on this below.\n",
    "\n",
    "min: the shortest delay in the dataset. In this case, the flight was very early.\n",
    "\n",
    "25%: the 25th percentile. 25% of delays were lower than -9.00.\n",
    "\n",
    "50%: the 50th percentile, or the median. 50% of delays were lower than 1.00.\n",
    "\n",
    "75%: the 75th percentile. 75% of delays were lower than 19.00.\n",
    "\n",
    "max: the longest delay in the dataset: 535.00."
   ]
  },
  {
   "cell_type": "code",
   "execution_count": null,
   "metadata": {},
   "outputs": [],
   "source": [
    "wn_carrier = data[data['unique_carrier'] == 'WN']\n",
    "wn_carrier['arr_delay'][:5]"
   ]
  },
  {
   "cell_type": "markdown",
   "metadata": {},
   "source": [
    "### Another way to plot box plots and histograms"
   ]
  },
  {
   "cell_type": "code",
   "execution_count": null,
   "metadata": {},
   "outputs": [],
   "source": [
    "wn_carrier['arr_delay'].plot(kind='box', figsize=[4, 4])"
   ]
  },
  {
   "cell_type": "code",
   "execution_count": null,
   "metadata": {},
   "outputs": [],
   "source": [
    "# histograms\n",
    "bin_values = np.arange(start=-50, stop=200, step=10)\n",
    "wn_carrier['arr_delay'].hist(bins=bin_values, figsize = [14, 6])"
   ]
  },
  {
   "cell_type": "code",
   "execution_count": null,
   "metadata": {},
   "outputs": [],
   "source": [
    "hi_volume = data['origin'].value_counts()[:20]\n",
    "hi_volume.head()"
   ]
  },
  {
   "cell_type": "code",
   "execution_count": null,
   "metadata": {},
   "outputs": [],
   "source": [
    "hi_volume_airports_names = hi_volume.index.tolist()\n",
    "hi_volume_airports_names"
   ]
  }
 ],
 "metadata": {
  "kernelspec": {
   "display_name": "Python 3",
   "language": "python",
   "name": "python3"
  },
  "language_info": {
   "codemirror_mode": {
    "name": "ipython",
    "version": 3
   },
   "file_extension": ".py",
   "mimetype": "text/x-python",
   "name": "python",
   "nbconvert_exporter": "python",
   "pygments_lexer": "ipython3",
   "version": "3.7.3"
  }
 },
 "nbformat": 4,
 "nbformat_minor": 2
}
